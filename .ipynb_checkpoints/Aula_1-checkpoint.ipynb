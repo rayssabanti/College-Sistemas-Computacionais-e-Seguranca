{
 "cells": [
  {
   "cell_type": "markdown",
   "id": "22988a9f-e5bb-4e9e-a78e-fb375ff06b8b",
   "metadata": {},
   "source": [
    "## Sistemas computacionais e segurança"
   ]
  },
  {
   "cell_type": "markdown",
   "id": "6025ad60-931b-43f8-86ea-0ef42c63c77f",
   "metadata": {},
   "source": [
    "### Aula prática 1 "
   ]
  },
  {
   "cell_type": "markdown",
   "id": "fd19a017-fc5c-4d33-8ef8-3adf99bb747f",
   "metadata": {},
   "source": [
    "#### Temas abordados: \n",
    "- Bases numéricas \n",
    "- Divisão euclidiana"
   ]
  },
  {
   "cell_type": "markdown",
   "id": "daa578e0-eba9-421f-9a70-64635402168c",
   "metadata": {},
   "source": [
    "##### Exercício 1 \n",
    "Crie uma função que realize a divisão euclidiana de qualquer número e qualquer base "
   ]
  },
  {
   "cell_type": "code",
   "execution_count": 29,
   "id": "3d68feef-4fec-4a04-a1dc-5ccb6f423b4c",
   "metadata": {
    "tags": []
   },
   "outputs": [],
   "source": [
    "def div_euclidiana(numero, base):\n",
    "    lista_resto =[] #Cria uma lista vazia para receber os restos em ordem\n",
    "    quociente = numero // base #armazena o primeiro quociente\n",
    "    \n",
    "    while (quociente != 0): \n",
    "        lista_resto.append(numero % base) #insere o resto na lista\n",
    "        numero = numero // base #muda o numero a ser dividido pelo quociente\n",
    "        quociente = numero #muda também o quociente que estamos utilizando de parâmetro\n",
    "        \n",
    "    resto = list(reversed(lista_resto)) #reverte a lista\n",
    "  \n",
    "    print(resto)"
   ]
  },
  {
   "cell_type": "code",
   "execution_count": 30,
   "id": "42d7ff47-5279-4889-8d7d-a867f8b40384",
   "metadata": {
    "tags": []
   },
   "outputs": [
    {
     "name": "stdin",
     "output_type": "stream",
     "text": [
      "Digite o número:  27\n"
     ]
    }
   ],
   "source": [
    "numero = int(input('Digite o número: '))"
   ]
  },
  {
   "cell_type": "code",
   "execution_count": 31,
   "id": "ae4327a2-96c1-46b2-8b70-a7d7b07599a2",
   "metadata": {},
   "outputs": [
    {
     "name": "stdin",
     "output_type": "stream",
     "text": [
      "Digite a base:  6\n"
     ]
    }
   ],
   "source": [
    "base = int(input('Digite a base: '))"
   ]
  },
  {
   "cell_type": "code",
   "execution_count": 32,
   "id": "1658be84-480b-4557-8cbb-9e965866f4e3",
   "metadata": {},
   "outputs": [
    {
     "name": "stdout",
     "output_type": "stream",
     "text": [
      "[4, 3]\n"
     ]
    }
   ],
   "source": [
    "div_euclidiana(numero, base)"
   ]
  },
  {
   "cell_type": "code",
   "execution_count": null,
   "id": "37a88268-cc6d-4f11-863a-704f4b865e65",
   "metadata": {},
   "outputs": [],
   "source": []
  }
 ],
 "metadata": {
  "kernelspec": {
   "display_name": "Python 3 (ipykernel)",
   "language": "python",
   "name": "python3"
  },
  "language_info": {
   "codemirror_mode": {
    "name": "ipython",
    "version": 3
   },
   "file_extension": ".py",
   "mimetype": "text/x-python",
   "name": "python",
   "nbconvert_exporter": "python",
   "pygments_lexer": "ipython3",
   "version": "3.9.7"
  }
 },
 "nbformat": 4,
 "nbformat_minor": 5
}
